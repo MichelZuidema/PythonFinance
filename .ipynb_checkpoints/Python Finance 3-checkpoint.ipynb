{
 "cells": [
  {
   "cell_type": "code",
   "execution_count": 36,
   "id": "c412122f",
   "metadata": {},
   "outputs": [],
   "source": [
    "import numpy as np\n",
    "import pandas as pd\n",
    "from pandas_datareader import data as web\n",
    "import matplotlib.pyplot as plt\n",
    "import matplotlib.dates as mdates\n",
    "%matplotlib inline\n",
    "\n",
    "import datetime as dt\n",
    "import mplfinance as mpf\n",
    "\n",
    "import time\n",
    "\n",
    "import os\n",
    "from os import listdir\n",
    "from os.path import isfile, join"
   ]
  },
  {
   "cell_type": "code",
   "execution_count": 37,
   "id": "9b724a4a",
   "metadata": {},
   "outputs": [],
   "source": [
    "# Default Values\n",
    "PATH = \"F:/Code/Python/Jupyter/Finance/datasets/Stock List/\"\n",
    "S_YEAR = 2017\n",
    "S_MONTH = 1\n",
    "S_DAY = 3\n",
    "S_DATE_STR = f\"{S_YEAR}-{S_MONTH}-{S_DAY}\"\n",
    "S_DATE_DATETIME = dt.datetime(S_YEAR, S_MONTH, S_DAY)\n",
    "\n",
    "E_YEAR = 2021\n",
    "E_MONTH = 8\n",
    "E_DAY = 19\n",
    "E_DATE_STR = f\"{E_YEAR}-{E_MONTH}-{E_DAY}\"\n",
    "E_DATE_DATETIME = dt.datetime(E_YEAR, E_MONTH, E_DAY)"
   ]
  },
  {
   "cell_type": "code",
   "execution_count": 50,
   "id": "0ced9b5d",
   "metadata": {},
   "outputs": [
    {
     "data": {
      "text/plain": [
       "['A',\n",
       " 'AA',\n",
       " 'AAL',\n",
       " 'AAME',\n",
       " 'AAOI',\n",
       " 'AAON',\n",
       " 'AAP',\n",
       " 'AAPL',\n",
       " 'AAT',\n",
       " 'AAWW',\n",
       " 'ABBV',\n",
       " 'ABC',\n",
       " 'ABCB',\n",
       " 'ABEO',\n",
       " 'ABG',\n",
       " 'ABIO',\n",
       " 'ABM',\n",
       " 'ABMD']"
      ]
     },
     "execution_count": 50,
     "metadata": {},
     "output_type": "execute_result"
    }
   ],
   "source": [
    "# Get Stock File Names in a List\n",
    "files = [x for x in listdir(PATH) if isfile(join(PATH, x))]\n",
    "tickers = [os.path.splitext(x)[0] for x in files]\n",
    "\n",
    "tickers.sort()\n",
    "tickers"
   ]
  },
  {
   "cell_type": "code",
   "execution_count": 39,
   "id": "739026a4",
   "metadata": {},
   "outputs": [],
   "source": [
    "# Function that returns a dataframe from a csv\n",
    "def get_df_from_csv(ticker):\n",
    "    try:\n",
    "        df = pd.read_csv(PATH + ticker + \".csv\")\n",
    "    except FileNotFoundError:\n",
    "        print(\"File doesn't exist\")\n",
    "    else:\n",
    "        return df"
   ]
  },
  {
   "cell_type": "code",
   "execution_count": 40,
   "id": "db7ecdb0",
   "metadata": {},
   "outputs": [],
   "source": [
    "# Function that saves dataframe to csv\n",
    "def save_dataframe_to_csv(df, ticker):\n",
    "    df.to_csv(PATH + ticker + \".csv\")"
   ]
  },
  {
   "cell_type": "code",
   "execution_count": 41,
   "id": "49bfc686",
   "metadata": {},
   "outputs": [],
   "source": [
    "# Return valid dates in dataframe\n",
    "def get_valid_dates(df, sdate, edate):\n",
    "    try:\n",
    "        mask = (df['Date'] > sdate) & (df['Date'] <= edate)\n",
    "        sm_df = df.loc[mask]\n",
    "        sm_df = sm_df.set_index(['Date'])\n",
    "        sm_date = sm_df.index.min()\n",
    "        last_date = sm_df.index.max()\n",
    "        \n",
    "        date_leading = '-'.join(('0' if len(x) < 2 else '')+ x for x in sm_date.split('-'))\n",
    "        date_ending = '-'.join(('0' if len(x) < 2 else '')+ x for x in last_date.split('-'))\n",
    "    except Exception:\n",
    "        print(\"Date is corrupted\")\n",
    "    else:\n",
    "        return date_leading, date_ending\n",
    "        "
   ]
  },
  {
   "cell_type": "code",
   "execution_count": 42,
   "id": "9b323126",
   "metadata": {},
   "outputs": [],
   "source": [
    "# Returns return on investment over specific time\n",
    "def roi_between_dates(df, sdate, edate):\n",
    "    try:\n",
    "        start_val = df.loc[sdate, 'Adj Close']\n",
    "        end_val = df.loc[edate, 'Adj Close']\n",
    "        roi = ((end_val - start_val) / start_val)\n",
    "    except Exception:\n",
    "        print(\"Data is corrupted\")\n",
    "    else:\n",
    "        return roi"
   ]
  },
  {
   "cell_type": "code",
   "execution_count": 43,
   "id": "d8ce2475",
   "metadata": {},
   "outputs": [],
   "source": [
    "# Get mean between dates\n",
    "def get_mean_between_dates(df, sdate, edate):\n",
    "    mask = (df['Date'] > sdate) & (df['Date'] <= edate)\n",
    "    \n",
    "    return df.loc[mask]['Adj Close'].mean()"
   ]
  },
  {
   "cell_type": "code",
   "execution_count": 44,
   "id": "c36c98b6",
   "metadata": {},
   "outputs": [],
   "source": [
    "# Get standard deviation between dates\n",
    "def get_sd_between_dates(df, sdate, edate):\n",
    "    mask = (df['Date'] > sdate) & (df['Date'] <= edate)\n",
    "    \n",
    "    return df.loc[mask]['Adj Close'].std()"
   ]
  },
  {
   "cell_type": "code",
   "execution_count": 45,
   "id": "ccd463a5",
   "metadata": {},
   "outputs": [],
   "source": [
    "# Get coefficient of variation between dates\n",
    "def get_cov_between_dates(df, sdate, edate):\n",
    "    mean = get_mean_between_dates(df, sdate, edate)\n",
    "    sd = get_sd_between_dates(df, sdate, edate)\n",
    "    \n",
    "    return sd / mean"
   ]
  },
  {
   "cell_type": "code",
   "execution_count": 46,
   "id": "f67d01fe",
   "metadata": {},
   "outputs": [
    {
     "name": "stdout",
     "output_type": "stream",
     "text": [
      "('2020-01-02', '2020-12-31')\n",
      "Adj Close Mean:  91.64646147167872\n",
      "Adj Close SD:  13.775107671727204\n",
      "Adj Close COV:  0.15030703259595124\n",
      "Return on Investment:  0.3875000528571519\n"
     ]
    }
   ],
   "source": [
    "# Test functions\n",
    "tickers[0]\n",
    "stock_a = get_df_from_csv(tickers[0])\n",
    "\n",
    "print(get_valid_dates(stock_a, '2020-01-01', '2020-12-31'))\n",
    "sdate, edate = get_valid_dates(stock_a, '2020-01-01', '2020-12-31')\n",
    "print(\"Adj Close Mean: \", get_mean_between_dates(stock_a, sdate, edate))\n",
    "print(\"Adj Close SD: \", get_sd_between_dates(stock_a, sdate, edate))\n",
    "print(\"Adj Close COV: \", get_cov_between_dates(stock_a, sdate, edate))\n",
    "stock_a = stock_a.set_index(['Date'])\n",
    "print(\"Return on Investment: \", roi_between_dates(stock_a, sdate, edate))"
   ]
  },
  {
   "cell_type": "code",
   "execution_count": 47,
   "id": "e834074a",
   "metadata": {},
   "outputs": [],
   "source": [
    "# COV & ROI for all stocks over defined period\n",
    "def get_cov_ror(tickers, sdate, edate):\n",
    "    col_names = [\"Ticker\", \"COV\", \"ROI\"]\n",
    "    df = pd.DataFrame(columns = col_names)\n",
    "    \n",
    "    for ticker in tickers:\n",
    "        print(\"Working on: \", ticker)\n",
    "        s_df = get_df_from_csv(ticker)\n",
    "        \n",
    "        sdate2, edate2 = get_valid_dates(s_df, sdate, edate)\n",
    "        \n",
    "        cov = get_cov_between_dates(s_df, sdate2, edate2)\n",
    "        s_df = s_df.set_index(['Date'])\n",
    "        roi = roi_between_dates(s_df, sdate2, edate2)\n",
    "        df.loc[len(df.index)] = [ticker, cov, roi]\n",
    "    \n",
    "    return df"
   ]
  },
  {
   "cell_type": "code",
   "execution_count": 51,
   "id": "2fd8a48b",
   "metadata": {},
   "outputs": [
    {
     "name": "stdout",
     "output_type": "stream",
     "text": [
      "Working on:  A\n",
      "Working on:  AA\n",
      "Working on:  AAL\n",
      "Working on:  AAME\n",
      "Working on:  AAOI\n",
      "Working on:  AAON\n",
      "Working on:  AAP\n",
      "Working on:  AAPL\n",
      "Working on:  AAT\n",
      "Working on:  AAWW\n",
      "Working on:  ABBV\n",
      "Working on:  ABC\n",
      "Working on:  ABCB\n",
      "Working on:  ABEO\n",
      "Working on:  ABG\n",
      "Working on:  ABIO\n",
      "Working on:  ABM\n",
      "Working on:  ABMD\n"
     ]
    }
   ],
   "source": [
    "market_df = get_cov_ror(tickers, '2019-01-01', '2019-12-31')"
   ]
  },
  {
   "cell_type": "code",
   "execution_count": 52,
   "id": "03ff52a0",
   "metadata": {},
   "outputs": [
    {
     "data": {
      "text/html": [
       "<div>\n",
       "<style scoped>\n",
       "    .dataframe tbody tr th:only-of-type {\n",
       "        vertical-align: middle;\n",
       "    }\n",
       "\n",
       "    .dataframe tbody tr th {\n",
       "        vertical-align: top;\n",
       "    }\n",
       "\n",
       "    .dataframe thead th {\n",
       "        text-align: right;\n",
       "    }\n",
       "</style>\n",
       "<table border=\"1\" class=\"dataframe\">\n",
       "  <thead>\n",
       "    <tr style=\"text-align: right;\">\n",
       "      <th></th>\n",
       "      <th>Ticker</th>\n",
       "      <th>COV</th>\n",
       "      <th>ROI</th>\n",
       "    </tr>\n",
       "  </thead>\n",
       "  <tbody>\n",
       "    <tr>\n",
       "      <th>7</th>\n",
       "      <td>AAPL</td>\n",
       "      <td>0.169435</td>\n",
       "      <td>0.887424</td>\n",
       "    </tr>\n",
       "    <tr>\n",
       "      <th>14</th>\n",
       "      <td>ABG</td>\n",
       "      <td>0.174573</td>\n",
       "      <td>0.641075</td>\n",
       "    </tr>\n",
       "    <tr>\n",
       "      <th>5</th>\n",
       "      <td>AAON</td>\n",
       "      <td>0.096021</td>\n",
       "      <td>0.418350</td>\n",
       "    </tr>\n",
       "    <tr>\n",
       "      <th>12</th>\n",
       "      <td>ABCB</td>\n",
       "      <td>0.081227</td>\n",
       "      <td>0.348675</td>\n",
       "    </tr>\n",
       "    <tr>\n",
       "      <th>0</th>\n",
       "      <td>A</td>\n",
       "      <td>0.065270</td>\n",
       "      <td>0.309761</td>\n",
       "    </tr>\n",
       "  </tbody>\n",
       "</table>\n",
       "</div>"
      ],
      "text/plain": [
       "   Ticker       COV       ROI\n",
       "7    AAPL  0.169435  0.887424\n",
       "14    ABG  0.174573  0.641075\n",
       "5    AAON  0.096021  0.418350\n",
       "12   ABCB  0.081227  0.348675\n",
       "0       A  0.065270  0.309761"
      ]
     },
     "execution_count": 52,
     "metadata": {},
     "output_type": "execute_result"
    }
   ],
   "source": [
    "# Get top 5 stocks based on ROI during specified date\n",
    "market_df.sort_values(by=['ROI'], ascending=False).head(5)"
   ]
  },
  {
   "cell_type": "code",
   "execution_count": 55,
   "id": "7c57737a",
   "metadata": {},
   "outputs": [],
   "source": [
    "# Merge multiple stocks in one dataframe by a specific column name\n",
    "def merge_df_by_column_name(col_name, sdate, edate, *tickers):\n",
    "    mult_df = pd.DataFrame()\n",
    "    \n",
    "    for x in tickers:\n",
    "        df = get_df_from_csv(x)\n",
    "        df['Date'] = pd.to_datetime(df['Date'])\n",
    "        mask = (df['Date'] >= sdate) & (df['Date'] <= edate)\n",
    "        mult_df[x] = df.loc[mask][col_name]\n",
    "    \n",
    "    return mult_df"
   ]
  },
  {
   "cell_type": "code",
   "execution_count": 63,
   "id": "8cbdd11f",
   "metadata": {},
   "outputs": [
    {
     "data": {
      "text/plain": [
       "<AxesSubplot:>"
      ]
     },
     "execution_count": 63,
     "metadata": {},
     "output_type": "execute_result"
    },
    {
     "data": {
      "image/png": "[encoded data removed]",
      "text/plain": [
       "<Figure size 432x288 with 1 Axes>"
      ]
     },
     "metadata": {
      "needs_background": "light"
     },
     "output_type": "display_data"
    }
   ],
   "source": [
    "# Create a correlation matrix using FAANGS\n",
    "# Standardized value between -1 and 1\n",
    "# value > 0.5 = strongly correlated\n",
    "\n",
    "faang_list = [\"AMZN\",\"FB\", \"AAPL\", \"NFLX\", \"GOOG\"]\n",
    "mult_df = merge_df_by_column_name('daily_return', '2020-1-1', '2020-12-31', *faang_list)\n",
    "mult_df.corr()\n",
    "\n",
    "# Correlation for a specific ticker\n",
    "mult_df.corr()['NFLX'].plot(kind='bar')"
   ]
  },
  {
   "cell_type": "code",
   "execution_count": 68,
   "id": "caaf36b4",
   "metadata": {},
   "outputs": [
    {
     "data": {
      "text/plain": [
       "0.21435236996843451"
      ]
     },
     "execution_count": 68,
     "metadata": {},
     "output_type": "execute_result"
    }
   ],
   "source": [
    "# Get the variance (return fluctuation) of a stock\n",
    "# variance * amount of days\n",
    "mult_df['NFLX'].var() * 253\n",
    "# days = len(mult_df.index)\n",
    "# days"
   ]
  },
  {
   "cell_type": "code",
   "execution_count": 69,
   "id": "35469c2c",
   "metadata": {},
   "outputs": [
    {
     "data": {
      "text/html": [
       "<div>\n",
       "<style scoped>\n",
       "    .dataframe tbody tr th:only-of-type {\n",
       "        vertical-align: middle;\n",
       "    }\n",
       "\n",
       "    .dataframe tbody tr th {\n",
       "        vertical-align: top;\n",
       "    }\n",
       "\n",
       "    .dataframe thead th {\n",
       "        text-align: right;\n",
       "    }\n",
       "</style>\n",
       "<table border=\"1\" class=\"dataframe\">\n",
       "  <thead>\n",
       "    <tr style=\"text-align: right;\">\n",
       "      <th></th>\n",
       "      <th>AMZN</th>\n",
       "      <th>FB</th>\n",
       "      <th>AAPL</th>\n",
       "      <th>NFLX</th>\n",
       "      <th>GOOG</th>\n",
       "    </tr>\n",
       "  </thead>\n",
       "  <tbody>\n",
       "    <tr>\n",
       "      <th>AMZN</th>\n",
       "      <td>0.148918</td>\n",
       "      <td>0.121090</td>\n",
       "      <td>0.125888</td>\n",
       "      <td>0.121261</td>\n",
       "      <td>0.100904</td>\n",
       "    </tr>\n",
       "    <tr>\n",
       "      <th>FB</th>\n",
       "      <td>0.121090</td>\n",
       "      <td>0.211498</td>\n",
       "      <td>0.165004</td>\n",
       "      <td>0.122340</td>\n",
       "      <td>0.141870</td>\n",
       "    </tr>\n",
       "    <tr>\n",
       "      <th>AAPL</th>\n",
       "      <td>0.125888</td>\n",
       "      <td>0.165004</td>\n",
       "      <td>0.218483</td>\n",
       "      <td>0.120969</td>\n",
       "      <td>0.135044</td>\n",
       "    </tr>\n",
       "    <tr>\n",
       "      <th>NFLX</th>\n",
       "      <td>0.121261</td>\n",
       "      <td>0.122340</td>\n",
       "      <td>0.120969</td>\n",
       "      <td>0.214352</td>\n",
       "      <td>0.094118</td>\n",
       "    </tr>\n",
       "    <tr>\n",
       "      <th>GOOG</th>\n",
       "      <td>0.100904</td>\n",
       "      <td>0.141870</td>\n",
       "      <td>0.135044</td>\n",
       "      <td>0.094118</td>\n",
       "      <td>0.147431</td>\n",
       "    </tr>\n",
       "  </tbody>\n",
       "</table>\n",
       "</div>"
      ],
      "text/plain": [
       "          AMZN        FB      AAPL      NFLX      GOOG\n",
       "AMZN  0.148918  0.121090  0.125888  0.121261  0.100904\n",
       "FB    0.121090  0.211498  0.165004  0.122340  0.141870\n",
       "AAPL  0.125888  0.165004  0.218483  0.120969  0.135044\n",
       "NFLX  0.121261  0.122340  0.120969  0.214352  0.094118\n",
       "GOOG  0.100904  0.141870  0.135044  0.094118  0.147431"
      ]
     },
     "execution_count": 69,
     "metadata": {},
     "output_type": "execute_result"
    }
   ],
   "source": [
    "# Get covariance of stocks\n",
    "mult_df.cov() * 253"
   ]
  },
  {
   "cell_type": "code",
   "execution_count": 78,
   "id": "e0cd09f0",
   "metadata": {},
   "outputs": [
    {
     "name": "stdout",
     "output_type": "stream",
     "text": [
      "Portfolio Variance:  3.9662146183866476\n",
      "FB Variance:  0.21149771065707504\n",
      "ABIO Variance:  15.727364775585947\n"
     ]
    }
   ],
   "source": [
    "# Test portfolio\n",
    "portfolio_list = [\"FB\", \"ABIO\"]\n",
    "port_df = merge_df_by_column_name('daily_return', '2020-1-1', '2020-12-31', *portfolio_list)\n",
    "port_df\n",
    "\n",
    "port_df.corr()\n",
    "\n",
    "price_df = merge_df_by_column_name('Adj Close', '2020-1-1', '2020-12-31', *['FB', 'ABIO'])\n",
    "price_df.head()\n",
    "\n",
    "fb_wt = 209.78 / 418.48\n",
    "abio_wt = 208.70 / 418.48\n",
    "fb_wt = .5012\n",
    "abio_wt = .4988\n",
    "wts = np.array([fb_wt, abio_wt])\n",
    "port_var = np.dot(wts.T, np.dot(port_df.cov() * 253, wts))\n",
    "print(\"Portfolio Variance: \", port_var)\n",
    "print(\"FB Variance: \", port_df[\"FB\"].var() * 253)\n",
    "print(\"ABIO Variance: \", port_df[\"ABIO\"].var() * 253)"
   ]
  },
  {
   "cell_type": "code",
   "execution_count": null,
   "id": "0c0e7d4e",
   "metadata": {},
   "outputs": [],
   "source": []
  }
 ],
 "metadata": {
  "kernelspec": {
   "display_name": "Python 3 (ipykernel)",
   "language": "python",
   "name": "python3"
  },
  "language_info": {
   "codemirror_mode": {
    "name": "ipython",
    "version": 3
   },
   "file_extension": ".py",
   "mimetype": "text/x-python",
   "name": "python",
   "nbconvert_exporter": "python",
   "pygments_lexer": "ipython3",
   "version": "3.9.12"
  }
 },
 "nbformat": 4,
 "nbformat_minor": 5
}
