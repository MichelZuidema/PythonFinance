{
 "cells": [
  {
   "cell_type": "code",
   "execution_count": 1,
   "id": "6736b05d",
   "metadata": {},
   "outputs": [],
   "source": [
    "import numpy as np\n",
    "import pandas as pd\n",
    "from pandas_datareader import data as web\n",
    "import matplotlib.pyplot as plt\n",
    "import matplotlib.dates as mdates\n",
    "%matplotlib inline\n",
    "\n",
    "import datetime as dt\n",
    "import mplfinance as mpf\n",
    "\n",
    "import time\n",
    "\n",
    "import os\n",
    "from os import listdir\n",
    "from os.path import isfile, join\n",
    "\n",
    "import statsmodels.api as sm\n",
    "import seaborn as sns\n",
    "from statsmodels.tsa.ar_model import AutoReg, ar_select_order"
   ]
  },
  {
   "cell_type": "code",
   "execution_count": 2,
   "id": "51a2c658",
   "metadata": {},
   "outputs": [],
   "source": [
    "# Default Values\n",
    "PATH = \"F:/Code/Python/Jupyter/Finance/datasets/Stock List/\"\n",
    "S_YEAR = 2017\n",
    "S_MONTH = 1\n",
    "S_DAY = 3\n",
    "S_DATE_STR = f\"{S_YEAR}-{S_MONTH}-{S_DAY}\"\n",
    "S_DATE_DATETIME = dt.datetime(S_YEAR, S_MONTH, S_DAY)\n",
    "\n",
    "E_YEAR = 2021\n",
    "E_MONTH = 8\n",
    "E_DAY = 19\n",
    "E_DATE_STR = f\"{E_YEAR}-{E_MONTH}-{E_DAY}\"\n",
    "E_DATE_DATETIME = dt.datetime(E_YEAR, E_MONTH, E_DAY)"
   ]
  },
  {
   "cell_type": "code",
   "execution_count": 3,
   "id": "9ef922df",
   "metadata": {},
   "outputs": [],
   "source": [
    "# arrays for not downloaded stocks \n",
    "stocks_not_downloaded = []\n",
    "missing_stocks = []\n",
    "test_list = [\"ABR\", \"ACER\", \"ABBV\", \"AAPL\"]"
   ]
  },
  {
   "cell_type": "code",
   "execution_count": 12,
   "id": "9a02f0c7",
   "metadata": {},
   "outputs": [],
   "source": [
    "# Function that returns a dataframe from a csv\n",
    "def get_df_from_csv(folder, ticker):\n",
    "    try:\n",
    "        df = pd.read_csv(folder + ticker + \".csv\", index_col='Date', parse_dates=True)\n",
    "    except FileNotFoundError:\n",
    "        print(\"File doesn't exist\")\n",
    "    else:\n",
    "        return df"
   ]
  },
  {
   "cell_type": "code",
   "execution_count": 5,
   "id": "7f1e8e02",
   "metadata": {
    "scrolled": true
   },
   "outputs": [
    {
     "data": {
      "text/plain": [
       "470"
      ]
     },
     "execution_count": 5,
     "metadata": {},
     "output_type": "execute_result"
    }
   ],
   "source": [
    "# Get Stock File Names in a List\n",
    "files = [x for x in listdir(PATH) if isfile(join(PATH, x))]\n",
    "tickers = [os.path.splitext(x)[0] for x in files]\n",
    "len(tickers)"
   ]
  },
  {
   "cell_type": "code",
   "execution_count": 6,
   "id": "27a4b15e",
   "metadata": {},
   "outputs": [],
   "source": [
    "# Saves stock data to csv\n",
    "def save_to_csv_from_yahoo(ticker, syear, smonth, sday, eyear, emonth, eday):\n",
    "    start = dt.datetime(syear, smonth, sday)\n",
    "    end = dt.datetime(eyear, emonth, eday)\n",
    "    \n",
    "    try:\n",
    "        print(\"Get data for: \", ticker)\n",
    "        df = web.DataReader(ticker, 'yahoo', start, end)['Adj Close']\n",
    "        \n",
    "        # Prevent missing data\n",
    "        time.sleep(5)\n",
    "        \n",
    "        df.to_csv('F:/Code/Python/Jupyter/Finance/datasets/Stock List/Update/' + ticker + '.csv')\n",
    "    except Exception as ex:\n",
    "        stocks_not_downloaded.append(ticker)\n",
    "        print(\"Couldn't get data for: \", ticker)"
   ]
  },
  {
   "cell_type": "code",
   "execution_count": null,
   "id": "5265cbb6",
   "metadata": {},
   "outputs": [],
   "source": [
    "# Download stock data updates\n",
    "for x in range(0, 500):\n",
    "    save_to_csv_from_yahoo(tickers[x], 2021, 8, 20, 2022, 4, 3)\n",
    "\n",
    "print(\"Downloading updates stock data finished!\")"
   ]
  },
  {
   "cell_type": "code",
   "execution_count": null,
   "id": "92d1859b",
   "metadata": {},
   "outputs": [],
   "source": [
    "# Download stock data of missing stocks\n",
    "for x in missing_stocks:\n",
    "    save_to_csv_from_yahoo(x, 2022, 4, 1, 2022, 4, 3)\n",
    "\n",
    "print(\"Downloading missing stock data finished!\")\n",
    "stocks_not_downloaded"
   ]
  },
  {
   "cell_type": "code",
   "execution_count": 43,
   "id": "a4330164",
   "metadata": {},
   "outputs": [],
   "source": [
    "# Merge updated data with 'old' data\n",
    "def update_stock_data(ticker):\n",
    "    update_folder = \"F:/Code/Python/Jupyter/Finance/datasets/Stock List/Update/\"\n",
    "    stock_folder = PATH\n",
    "    \n",
    "    # Get dataframes\n",
    "    update_df = get_df_from_csv(update_folder, ticker)\n",
    "    original_df = get_df_from_csv(stock_folder, ticker)\n",
    "    \n",
    "    # Clean data\n",
    "    original_df.drop(original_df.columns[original_df.columns.str.contains('unnamed',case = False)], axis = 1, inplace = True)\n",
    "    original_df = original_df.drop('daily_return', 1)\n",
    "    \n",
    "    # Combine both dataframes\n",
    "    join_df = pd.concat([original_df, update_df])\n",
    "    \n",
    "    return join_df"
   ]
  },
  {
   "cell_type": "code",
   "execution_count": 8,
   "id": "9fbd41ea",
   "metadata": {},
   "outputs": [],
   "source": [
    "# Save dataframe to csv\n",
    "def save_df_to_csv(df, folder, ticker):\n",
    "    df.to_csv(folder + ticker + \".csv\")"
   ]
  },
  {
   "cell_type": "code",
   "execution_count": 53,
   "id": "0fdba0ef",
   "metadata": {},
   "outputs": [],
   "source": [
    "# Update files with new data\n",
    "def update_stocks(stock_folder):\n",
    "    for x in missing_stocks:\n",
    "        try:\n",
    "            print(\"Updating: \", x)\n",
    "            new_df = update_stock_data(x)\n",
    "            save_df_to_csv(new_df, stock_folder, x)\n",
    "        except Exception as ex:\n",
    "            print(ex)"
   ]
  },
  {
   "cell_type": "markdown",
   "id": "ad1adedb",
   "metadata": {},
   "source": [
    "<h3>Update stock data</h3>"
   ]
  },
  {
   "cell_type": "code",
   "execution_count": null,
   "id": "2c492a99",
   "metadata": {},
   "outputs": [],
   "source": [
    "update_stocks(PATH)"
   ]
  },
  {
   "cell_type": "code",
   "execution_count": 50,
   "id": "24c4a0e6",
   "metadata": {},
   "outputs": [],
   "source": [
    "# Add daily returns to dataframe\n",
    "def add_daily_return_to_df(df, ticker):\n",
    "    df['daily_return'] = (df['Adj Close'] / df['Adj Close'].shift(1)) - 1\n",
    "    df.to_csv(PATH + ticker + '.csv')\n",
    "\n",
    "    return df  "
   ]
  },
  {
   "cell_type": "code",
   "execution_count": null,
   "id": "738cac7d",
   "metadata": {},
   "outputs": [],
   "source": [
    "# Update daily returns\n",
    "for x in tickers:\n",
    "    try:\n",
    "        print(\"Updating:\", x)\n",
    "        new_df = get_df_from_csv(PATH, x)\n",
    "        new_df = add_daily_return_to_df(new_df, x)\n",
    "        \n",
    "        save_df_to_csv(new_df, PATH, x)\n",
    "    except Exception as ex:\n",
    "        print(ex)"
   ]
  },
  {
   "cell_type": "markdown",
   "id": "98e2843f",
   "metadata": {},
   "source": [
    "<h3>Regression (Look at Python Finance 5)</h3>"
   ]
  },
  {
   "cell_type": "code",
   "execution_count": 56,
   "id": "462917d7",
   "metadata": {},
   "outputs": [],
   "source": [
    "def calc_projected_roi(ticker):\n",
    "    a_df = get_df_from_csv(PATH, ticker) \n",
    "    \n",
    "    a_df = a_df.asfreq('d') # Use daily prices\n",
    "    a_df.index # Check frequency ???\n",
    "    a_df = a_df.fillna(method='ffill') # Fill missing values\n",
    "\n",
    "    # Drop unnecessary columns\n",
    "    a_df.drop(a_df.columns[a_df.columns.str.contains('unnamed',case = False)], axis = 1, inplace = True)\n",
    "    a_df = a_df.drop(['daily_return'], axis=1)\n",
    "    \n",
    "    # Optimum lag (Time without new data, ex weekend)\n",
    "    lags = ar_select_order(a_df, maxlag=30)\n",
    "\n",
    "    # Create model\n",
    "    model = AutoReg(a_df['Adj Close'], lags.ar_lags)\n",
    "    model_fit = model.fit()\n",
    "\n",
    "    # Model Training settings based on df datapoints)\n",
    "    print(\"Length :\",len(a_df))\n",
    "    #train_df = a_df.iloc[50:1369]\n",
    "    #test_df = a_df.iloc[1369:]\n",
    "    \n",
    "    # Dynamic counts\n",
    "    train_ds = (len(a_df) - 50) / 100 * 80\n",
    "    train_df = a_df.iloc[50:int(train_ds)]\n",
    "    test_df = a_df.iloc[int(train_ds):]\n",
    "\n",
    "    # Actual training model\n",
    "    train_model = AutoReg(a_df['Adj Close'], 500).fit(cov_type=\"HC0\")\n",
    "    start = len(train_df)\n",
    "    end = len(train_df) + len(test_df) - 1\n",
    "\n",
    "    pred = train_model.predict(start=start, end=end, dynamic=True)\n",
    "    forecast = train_model.predict(start=end, end=end+60, dynamic=True)\n",
    "\n",
    "    # Prediction prices\n",
    "    s_price = forecast.head(1).iloc[0]\n",
    "    e_price = forecast.iloc[-1]\n",
    "\n",
    "    # Get return over prediction\n",
    "    return (e_price - s_price) / s_price"
   ]
  },
  {
   "cell_type": "code",
   "execution_count": 57,
   "id": "891a3603",
   "metadata": {},
   "outputs": [],
   "source": [
    "def get_projected_rois():\n",
    "    ticker = []\n",
    "    roi = []\n",
    "    \n",
    "    for x in tickers:\n",
    "        print(\"Working on: \", x)\n",
    "        \n",
    "        try:\n",
    "            t_roi = calc_projected_roi(x)\n",
    "        except Exception as ex:\n",
    "            print(\"Data corrupted\")\n",
    "            print(ex)\n",
    "        else:\n",
    "            ticker.append(x)\n",
    "            print(\"ROI: \", t_roi)\n",
    "            roi.append(t_roi)\n",
    "            \n",
    "    return pd.DataFrame({'Ticker': ticker, 'ROI': roi})"
   ]
  },
  {
   "cell_type": "code",
   "execution_count": null,
   "id": "e74974cf",
   "metadata": {},
   "outputs": [],
   "source": [
    "projected_roi_df = get_projected_rois()\n",
    "projected_roi_df"
   ]
  },
  {
   "cell_type": "markdown",
   "id": "abb6740c",
   "metadata": {},
   "source": [
    "<h3>Get top 20 stocks based on ROI</h3>"
   ]
  },
  {
   "cell_type": "code",
   "execution_count": 61,
   "id": "095e2c7a",
   "metadata": {
    "scrolled": true
   },
   "outputs": [
    {
     "data": {
      "text/html": [
       "<div>\n",
       "<style scoped>\n",
       "    .dataframe tbody tr th:only-of-type {\n",
       "        vertical-align: middle;\n",
       "    }\n",
       "\n",
       "    .dataframe tbody tr th {\n",
       "        vertical-align: top;\n",
       "    }\n",
       "\n",
       "    .dataframe thead th {\n",
       "        text-align: right;\n",
       "    }\n",
       "</style>\n",
       "<table border=\"1\" class=\"dataframe\">\n",
       "  <thead>\n",
       "    <tr style=\"text-align: right;\">\n",
       "      <th></th>\n",
       "      <th>Ticker</th>\n",
       "      <th>ROI</th>\n",
       "    </tr>\n",
       "  </thead>\n",
       "  <tbody>\n",
       "    <tr>\n",
       "      <th>55</th>\n",
       "      <td>ADXS</td>\n",
       "      <td>2.033012</td>\n",
       "    </tr>\n",
       "    <tr>\n",
       "      <th>210</th>\n",
       "      <td>ARDX</td>\n",
       "      <td>1.971576</td>\n",
       "    </tr>\n",
       "    <tr>\n",
       "      <th>80</th>\n",
       "      <td>AGRX</td>\n",
       "      <td>1.698449</td>\n",
       "    </tr>\n",
       "    <tr>\n",
       "      <th>288</th>\n",
       "      <td>AXAS</td>\n",
       "      <td>1.351575</td>\n",
       "    </tr>\n",
       "    <tr>\n",
       "      <th>193</th>\n",
       "      <td>APPN</td>\n",
       "      <td>1.040243</td>\n",
       "    </tr>\n",
       "    <tr>\n",
       "      <th>199</th>\n",
       "      <td>APVO</td>\n",
       "      <td>0.907521</td>\n",
       "    </tr>\n",
       "    <tr>\n",
       "      <th>449</th>\n",
       "      <td>CAR</td>\n",
       "      <td>0.831782</td>\n",
       "    </tr>\n",
       "    <tr>\n",
       "      <th>412</th>\n",
       "      <td>BSGM</td>\n",
       "      <td>0.782208</td>\n",
       "    </tr>\n",
       "    <tr>\n",
       "      <th>450</th>\n",
       "      <td>CARA</td>\n",
       "      <td>0.709601</td>\n",
       "    </tr>\n",
       "    <tr>\n",
       "      <th>233</th>\n",
       "      <td>ASPN</td>\n",
       "      <td>0.708718</td>\n",
       "    </tr>\n",
       "    <tr>\n",
       "      <th>250</th>\n",
       "      <td>ATNM</td>\n",
       "      <td>0.680386</td>\n",
       "    </tr>\n",
       "    <tr>\n",
       "      <th>413</th>\n",
       "      <td>BSQR</td>\n",
       "      <td>0.672618</td>\n",
       "    </tr>\n",
       "    <tr>\n",
       "      <th>205</th>\n",
       "      <td>ARAV</td>\n",
       "      <td>0.671850</td>\n",
       "    </tr>\n",
       "    <tr>\n",
       "      <th>130</th>\n",
       "      <td>ALT</td>\n",
       "      <td>0.660847</td>\n",
       "    </tr>\n",
       "    <tr>\n",
       "      <th>417</th>\n",
       "      <td>BTU</td>\n",
       "      <td>0.656071</td>\n",
       "    </tr>\n",
       "    <tr>\n",
       "      <th>270</th>\n",
       "      <td>AVEO</td>\n",
       "      <td>0.627086</td>\n",
       "    </tr>\n",
       "    <tr>\n",
       "      <th>444</th>\n",
       "      <td>CALA</td>\n",
       "      <td>0.605351</td>\n",
       "    </tr>\n",
       "    <tr>\n",
       "      <th>138</th>\n",
       "      <td>AMC</td>\n",
       "      <td>0.603744</td>\n",
       "    </tr>\n",
       "    <tr>\n",
       "      <th>35</th>\n",
       "      <td>ACRS</td>\n",
       "      <td>0.559145</td>\n",
       "    </tr>\n",
       "    <tr>\n",
       "      <th>360</th>\n",
       "      <td>BIOC</td>\n",
       "      <td>0.506064</td>\n",
       "    </tr>\n",
       "  </tbody>\n",
       "</table>\n",
       "</div>"
      ],
      "text/plain": [
       "    Ticker       ROI\n",
       "55    ADXS  2.033012\n",
       "210   ARDX  1.971576\n",
       "80    AGRX  1.698449\n",
       "288   AXAS  1.351575\n",
       "193   APPN  1.040243\n",
       "199   APVO  0.907521\n",
       "449    CAR  0.831782\n",
       "412   BSGM  0.782208\n",
       "450   CARA  0.709601\n",
       "233   ASPN  0.708718\n",
       "250   ATNM  0.680386\n",
       "413   BSQR  0.672618\n",
       "205   ARAV  0.671850\n",
       "130    ALT  0.660847\n",
       "417    BTU  0.656071\n",
       "270   AVEO  0.627086\n",
       "444   CALA  0.605351\n",
       "138    AMC  0.603744\n",
       "35    ACRS  0.559145\n",
       "360   BIOC  0.506064"
      ]
     },
     "execution_count": 61,
     "metadata": {},
     "output_type": "execute_result"
    }
   ],
   "source": [
    "projected_roi_df.sort_values(by=['ROI'], ascending=False)[0:20]"
   ]
  },
  {
   "cell_type": "code",
   "execution_count": null,
   "id": "55019912",
   "metadata": {},
   "outputs": [],
   "source": []
  }
 ],
 "metadata": {
  "kernelspec": {
   "display_name": "Python 3 (ipykernel)",
   "language": "python",
   "name": "python3"
  },
  "language_info": {
   "codemirror_mode": {
    "name": "ipython",
    "version": 3
   },
   "file_extension": ".py",
   "mimetype": "text/x-python",
   "name": "python",
   "nbconvert_exporter": "python",
   "pygments_lexer": "ipython3",
   "version": "3.9.12"
  }
 },
 "nbformat": 4,
 "nbformat_minor": 5
}
