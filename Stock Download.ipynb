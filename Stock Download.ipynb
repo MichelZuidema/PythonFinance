{
 "cells": [
  {
   "cell_type": "code",
   "execution_count": 1,
   "id": "aa9e39cf",
   "metadata": {},
   "outputs": [],
   "source": [
    "import numpy as np\n",
    "import pandas as pd\n",
    "from pandas_datareader import data as web\n",
    "import matplotlib.pyplot as plt\n",
    "import matplotlib.dates as mdates\n",
    "%matplotlib inline\n",
    "\n",
    "import datetime as dt\n",
    "import mplfinance as mpf\n",
    "\n",
    "import time"
   ]
  },
  {
   "cell_type": "code",
   "execution_count": 2,
   "id": "6fc6d44b",
   "metadata": {},
   "outputs": [],
   "source": [
    "# Stocks that didn't download\n",
    "stocks_not_downloaded = []\n",
    "missing_stocks = []"
   ]
  },
  {
   "cell_type": "code",
   "execution_count": 9,
   "id": "bed4bd47",
   "metadata": {},
   "outputs": [],
   "source": [
    "# Saves stock data to csv\n",
    "def save_to_csv_from_yahoo(folder, ticker, syear, smonth, sday, eyear, emonth, eday):\n",
    "    start = dt.datetime(syear, smonth, sday)\n",
    "    end = dt.datetime(eyear, emonth, eday)\n",
    "    \n",
    "    try:\n",
    "        print(\"Get data for: \", ticker)\n",
    "        df = web.DataReader(ticker, 'yahoo', start, end)['Adj Close']\n",
    "        # Prevent missing data\n",
    "        time.sleep(10)\n",
    "        df.to_csv(folder + ticker + \".csv\")\n",
    "    except Exception as ex:\n",
    "        stocks_not_downloaded.append(ticker)\n",
    "        print(\"Couldn't get data for: \", ticker)"
   ]
  },
  {
   "cell_type": "code",
   "execution_count": 4,
   "id": "c8a74c85",
   "metadata": {},
   "outputs": [],
   "source": [
    "# Returns a stock datafram from a csv\n",
    "def get_stock_df_from_csv(folder, ticker):\n",
    "    try:\n",
    "        df = pd.read_csv(folder + ticker + \".csv\")\n",
    "    except FileNotFoundError:\n",
    "        print(\"File doesn't exist\")\n",
    "    else:\n",
    "        return df\n",
    "            "
   ]
  },
  {
   "cell_type": "code",
   "execution_count": 5,
   "id": "39444405",
   "metadata": {},
   "outputs": [],
   "source": [
    "# Returns a named columns data from a csv\n",
    "def get_column_from_csv(file, col_name):\n",
    "    try:\n",
    "        df = pd.read_csv(file)\n",
    "    except FileNotFoundError:\n",
    "        print(\"File doesn't exist\")\n",
    "    else:\n",
    "        return df[col_name]\n",
    "        "
   ]
  },
  {
   "cell_type": "code",
   "execution_count": 6,
   "id": "e69bd476",
   "metadata": {},
   "outputs": [
    {
     "data": {
      "text/plain": [
       "0          A\n",
       "1         AA\n",
       "2        AAL\n",
       "3       AAME\n",
       "4        AAN\n",
       "        ... \n",
       "3476    ZUMZ\n",
       "3477     ZUO\n",
       "3478    ZYNE\n",
       "3479    ZYXI\n",
       "3480    ZNGA\n",
       "Name: Ticker, Length: 3481, dtype: object"
      ]
     },
     "execution_count": 6,
     "metadata": {},
     "output_type": "execute_result"
    }
   ],
   "source": [
    "# Test receiving stock tickers\n",
    "tickers = get_column_from_csv(\"F:/Code/Python/Jupyter/Finance/datasets/Wilshire-5000-Stocks.csv\", \"Ticker\")\n",
    "tickers"
   ]
  },
  {
   "cell_type": "code",
   "execution_count": 10,
   "id": "aab296f7",
   "metadata": {},
   "outputs": [
    {
     "name": "stdout",
     "output_type": "stream",
     "text": [
      "Get data for:  A\n",
      "Get data for:  AA\n",
      "Get data for:  AAL\n",
      "Get data for:  AAME\n",
      "Get data for:  AAN\n",
      "Get data for:  AAOI\n",
      "Get data for:  AAON\n",
      "Get data for:  AAP\n",
      "Get data for:  AAPL\n",
      "Get data for:  AAT\n",
      "Get data for:  AAWW\n",
      "Get data for:  AAXN\n",
      "Couldn't get data for:  AAXN\n",
      "Get data for:  ABBV\n",
      "Get data for:  ABC\n",
      "Get data for:  ABCB\n",
      "Get data for:  ABEO\n",
      "Get data for:  ABG\n",
      "Get data for:  ABIO\n",
      "Get data for:  ABM\n",
      "Get data for:  ABMD\n",
      "Finished\n"
     ]
    }
   ],
   "source": [
    "# Get 4 years of data for the 1st 20 stocks\n",
    "folder = \"F:/Code/Python/Jupyter/Finance/datasets/Stock List/\"\n",
    "for x in range(20):\n",
    "    save_to_csv_from_yahoo(folder, tickers[x], 2017, 1, 1, 2021, 8, 19)\n",
    "\n",
    "print(\"Finished\")"
   ]
  },
  {
   "cell_type": "code",
   "execution_count": null,
   "id": "dd0fe763",
   "metadata": {},
   "outputs": [],
   "source": [
    "# Download stocks in block\n",
    "for x in range(20, 500):\n",
    "    save_to_csv_from_yahoo(folder, tickers[x], 2017, 1, 1, 2021, 8, 19)\n",
    "    \n",
    "print(\"Finished\")\n",
    "stocks_not_downloaded"
   ]
  },
  {
   "cell_type": "code",
   "execution_count": null,
   "id": "e3f6fd5f",
   "metadata": {},
   "outputs": [],
   "source": [
    "for x in missing_stocks:\n",
    "    save_to_csv_from_yahoo(folder, x, 2017, 1, 1, 2021, 8, 19)\n",
    "    \n",
    "print(\"Finished\")\n",
    "stocks_not_downloaded"
   ]
  },
  {
   "cell_type": "code",
   "execution_count": 11,
   "id": "6adf6250",
   "metadata": {},
   "outputs": [
    {
     "data": {
      "text/plain": [
       "['AAXN']"
      ]
     },
     "execution_count": 11,
     "metadata": {},
     "output_type": "execute_result"
    }
   ],
   "source": [
    "stocks_not_downloaded"
   ]
  },
  {
   "cell_type": "code",
   "execution_count": null,
   "id": "def8aecf",
   "metadata": {},
   "outputs": [],
   "source": []
  }
 ],
 "metadata": {
  "kernelspec": {
   "display_name": "Python 3 (ipykernel)",
   "language": "python",
   "name": "python3"
  },
  "language_info": {
   "codemirror_mode": {
    "name": "ipython",
    "version": 3
   },
   "file_extension": ".py",
   "mimetype": "text/x-python",
   "name": "python",
   "nbconvert_exporter": "python",
   "pygments_lexer": "ipython3",
   "version": "3.9.12"
  }
 },
 "nbformat": 4,
 "nbformat_minor": 5
}
