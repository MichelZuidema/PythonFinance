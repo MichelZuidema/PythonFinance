{
 "cells": [
  {
   "cell_type": "code",
   "execution_count": 1,
   "id": "86a94238",
   "metadata": {},
   "outputs": [],
   "source": [
    "import numpy as np\n",
    "import pandas as pd\n",
    "from pandas_datareader import data as web\n",
    "import matplotlib.pyplot as plt\n",
    "import matplotlib.dates as mdates\n",
    "%matplotlib inline\n",
    "\n",
    "import datetime as dt\n",
    "import mplfinance as mpf\n",
    "\n",
    "import time\n",
    "\n",
    "import os\n",
    "from os import listdir\n",
    "from os.path import isfile, join"
   ]
  },
  {
   "cell_type": "code",
   "execution_count": 2,
   "id": "67169f13",
   "metadata": {},
   "outputs": [],
   "source": [
    "# Default Values\n",
    "PATH = \"F:/Code/Python/Jupyter/Finance/datasets/Stock List/\"\n",
    "S_YEAR = 2017\n",
    "S_MONTH = 1\n",
    "S_DAY = 3\n",
    "S_DATE_STR = f\"{S_YEAR}-{S_MONTH}-{S_DAY}\"\n",
    "S_DATE_DATETIME = dt.datetime(S_YEAR, S_MONTH, S_DAY)\n",
    "\n",
    "E_YEAR = 2021\n",
    "E_MONTH = 8\n",
    "E_DAY = 19\n",
    "E_DATE_STR = f\"{E_YEAR}-{E_MONTH}-{E_DAY}\"\n",
    "E_DATE_DATETIME = dt.datetime(E_YEAR, E_MONTH, E_DAY)"
   ]
  },
  {
   "cell_type": "code",
   "execution_count": 3,
   "id": "9101b272",
   "metadata": {},
   "outputs": [
    {
     "data": {
      "text/plain": [
       "470"
      ]
     },
     "execution_count": 3,
     "metadata": {},
     "output_type": "execute_result"
    }
   ],
   "source": [
    "# Get Stock File Names in a List\n",
    "files = [x for x in listdir(PATH) if isfile(join(PATH, x))]\n",
    "tickers = [os.path.splitext(x)[0] for x in files]\n",
    "len(tickers)"
   ]
  },
  {
   "cell_type": "code",
   "execution_count": 4,
   "id": "d43468d9",
   "metadata": {},
   "outputs": [
    {
     "data": {
      "text/html": [
       "<div>\n",
       "<style scoped>\n",
       "    .dataframe tbody tr th:only-of-type {\n",
       "        vertical-align: middle;\n",
       "    }\n",
       "\n",
       "    .dataframe tbody tr th {\n",
       "        vertical-align: top;\n",
       "    }\n",
       "\n",
       "    .dataframe thead th {\n",
       "        text-align: right;\n",
       "    }\n",
       "</style>\n",
       "<table border=\"1\" class=\"dataframe\">\n",
       "  <thead>\n",
       "    <tr style=\"text-align: right;\">\n",
       "      <th></th>\n",
       "      <th>Ticker</th>\n",
       "    </tr>\n",
       "  </thead>\n",
       "  <tbody>\n",
       "    <tr>\n",
       "      <th>0</th>\n",
       "      <td>A</td>\n",
       "    </tr>\n",
       "    <tr>\n",
       "      <th>1</th>\n",
       "      <td>AA</td>\n",
       "    </tr>\n",
       "    <tr>\n",
       "      <th>2</th>\n",
       "      <td>AAL</td>\n",
       "    </tr>\n",
       "    <tr>\n",
       "      <th>3</th>\n",
       "      <td>AAME</td>\n",
       "    </tr>\n",
       "    <tr>\n",
       "      <th>4</th>\n",
       "      <td>AAOI</td>\n",
       "    </tr>\n",
       "    <tr>\n",
       "      <th>...</th>\n",
       "      <td>...</td>\n",
       "    </tr>\n",
       "    <tr>\n",
       "      <th>465</th>\n",
       "      <td>MSCI</td>\n",
       "    </tr>\n",
       "    <tr>\n",
       "      <th>466</th>\n",
       "      <td>NEM</td>\n",
       "    </tr>\n",
       "    <tr>\n",
       "      <th>467</th>\n",
       "      <td>NFLX</td>\n",
       "    </tr>\n",
       "    <tr>\n",
       "      <th>468</th>\n",
       "      <td>SBAC</td>\n",
       "    </tr>\n",
       "    <tr>\n",
       "      <th>469</th>\n",
       "      <td>TGT</td>\n",
       "    </tr>\n",
       "  </tbody>\n",
       "</table>\n",
       "<p>470 rows × 1 columns</p>\n",
       "</div>"
      ],
      "text/plain": [
       "    Ticker\n",
       "0        A\n",
       "1       AA\n",
       "2      AAL\n",
       "3     AAME\n",
       "4     AAOI\n",
       "..     ...\n",
       "465   MSCI\n",
       "466    NEM\n",
       "467   NFLX\n",
       "468   SBAC\n",
       "469    TGT\n",
       "\n",
       "[470 rows x 1 columns]"
      ]
     },
     "execution_count": 4,
     "metadata": {},
     "output_type": "execute_result"
    }
   ],
   "source": [
    "# Create dataframe from list\n",
    "stock_df = pd.DataFrame(tickers, columns=['Ticker'])\n",
    "stock_df"
   ]
  },
  {
   "cell_type": "code",
   "execution_count": 5,
   "id": "240c2bdf",
   "metadata": {},
   "outputs": [],
   "source": [
    "# Function that returns a dataframe from a csv\n",
    "def get_df_from_csv(ticker):\n",
    "    try:\n",
    "        df = pd.read_csv(PATH + ticker + \".csv\")\n",
    "    except FileNotFoundError:\n",
    "        print(\"File doesn't exist\")\n",
    "    else:\n",
    "        return df"
   ]
  },
  {
   "cell_type": "code",
   "execution_count": 6,
   "id": "3e61d0ed",
   "metadata": {},
   "outputs": [],
   "source": [
    "# Function that saves dataframe to csv\n",
    "def save_dataframe_to_csv(df, ticker):\n",
    "    df.to_csv(PATH + ticker + \".csv\")"
   ]
  },
  {
   "cell_type": "code",
   "execution_count": 7,
   "id": "4c5bcc4e",
   "metadata": {},
   "outputs": [],
   "source": [
    "# Delete unnamed columns in CSV files\n",
    "def delete_unnamed_cols(df):\n",
    "    df = df.loc[:, ~df.columns.str.contains('^Unnamed')]\n",
    "    \n",
    "    return df"
   ]
  },
  {
   "cell_type": "code",
   "execution_count": 8,
   "id": "60588b2e",
   "metadata": {},
   "outputs": [],
   "source": [
    "# Add Daily Return To Dataframe\n",
    "def add_daily_return_to_df(df, ticker):\n",
    "    df['daily_return'] = (df['Adj Close'] / df['Adj Close'].shift(1)) - 1\n",
    "    df.to_csv(PATH + ticker + \".csv\")\n",
    "    \n",
    "    return df"
   ]
  },
  {
   "cell_type": "code",
   "execution_count": 9,
   "id": "f28a727a",
   "metadata": {},
   "outputs": [],
   "source": [
    "# Returns return on investment over time\n",
    "def get_roi_defined_time(df):\n",
    "    df['Date'] = pd.to_datetime(df['Date'])\n",
    "    \n",
    "    start_val = df[df['Date'] == S_DATE_STR]['Adj Close'][0]\n",
    "    end_val = df[df['Date'] == E_DATE_STR]['Adj Close'][0]\n",
    "    \n",
    "    print(\"Initial Price: \", start_val)\n",
    "    print(\"Final Price: \", end_val)\n",
    "    \n",
    "    roi = (end_val-start_val) / start_val\n",
    "    \n",
    "    return roi"
   ]
  },
  {
   "cell_type": "code",
   "execution_count": 10,
   "id": "37ff7f02",
   "metadata": {},
   "outputs": [],
   "source": [
    "# Get coefficient of variation (variability of data in relation to the mean of the population)\n",
    "def get_cov(stock_df):\n",
    "    mean = stock_df['Adj Close'].mean()\n",
    "    sd = stock_df['Adj Close']\n",
    "    cov = sd / mean\n",
    "    \n",
    "    return cov"
   ]
  },
  {
   "cell_type": "code",
   "execution_count": 11,
   "id": "a2780a88",
   "metadata": {},
   "outputs": [],
   "source": [
    "# Test functions\n",
    "tickers[0]\n",
    "stock_a = get_df_from_csv(tickers[0])\n",
    "stock_a\n",
    "\n",
    "add_daily_return_to_df(stock_a, tickers[0])\n",
    "stock_a\n",
    "\n",
    "stock_a = delete_unnamed_cols(stock_a)\n",
    "stock_a\n",
    "\n",
    "save_dataframe_to_csv(stock_a, tickers[0])\n",
    "\n"
   ]
  },
  {
   "cell_type": "code",
   "execution_count": null,
   "id": "ebcf8767",
   "metadata": {},
   "outputs": [],
   "source": [
    "# Add Daily returns & clean up all files\n",
    "for ticker in tickers:\n",
    "    print(\"Working on: \", ticker)\n",
    "    \n",
    "    stock_df = get_df_from_csv(ticker)\n",
    "    add_daily_return_to_df(stock_df, ticker)\n",
    "                               \n",
    "    stock_df = delete_unnamed_cols(stock_df)\n",
    "                               \n",
    "    save_dataframe_to_csv(stock_df, ticker)"
   ]
  }
 ],
 "metadata": {
  "kernelspec": {
   "display_name": "Python 3 (ipykernel)",
   "language": "python",
   "name": "python3"
  },
  "language_info": {
   "codemirror_mode": {
    "name": "ipython",
    "version": 3
   },
   "file_extension": ".py",
   "mimetype": "text/x-python",
   "name": "python",
   "nbconvert_exporter": "python",
   "pygments_lexer": "ipython3",
   "version": "3.9.12"
  }
 },
 "nbformat": 4,
 "nbformat_minor": 5
}
